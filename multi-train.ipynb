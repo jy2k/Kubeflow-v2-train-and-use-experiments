{
 "cells": [
  {
   "cell_type": "code",
   "execution_count": 7,
   "id": "461b4758-c18a-4403-b360-2bf821e5e02f",
   "metadata": {
    "tags": []
   },
   "outputs": [],
   "source": [
    "%%capture\n",
    "!pip3 install google-cloud-aiplatform==1.0.0 --upgrade\n",
    "!pip3 install kfp google-cloud-pipeline-components==0.1.1 --upgrade\n",
    "!pip3 install scikit-learn\n",
    "!pip3 install google-cloud-aiplatform --upgrade\n",
    "!pip3 install pandas\n",
    "!pip3 install imbalanced-learn"
   ]
  },
  {
   "cell_type": "code",
   "execution_count": 8,
   "id": "233a5c37-0d16-43af-8cfa-98cc406e9333",
   "metadata": {
    "tags": []
   },
   "outputs": [],
   "source": [
    "import uuid\n",
    "import kfp\n",
    "from google.cloud import aiplatform\n",
    "from kfp.v2.dsl import component\n",
    "from kfp.v2.dsl import (Artifact, Dataset, Input, InputPath, Model, Output, OutputPath, component)\n",
    "from google_cloud_pipeline_components import aiplatform as gcc_aip\n",
    "from typing import NamedTuple"
   ]
  },
  {
   "cell_type": "code",
   "execution_count": 9,
   "id": "396369d5-8abb-45c7-b134-20fe5332b32c",
   "metadata": {},
   "outputs": [
    {
     "name": "stdout",
     "output_type": "stream",
     "text": [
      "The dotenv extension is already loaded. To reload it, use:\n",
      "  %reload_ext dotenv\n",
      "kubeflow-demos\n",
      "user-group-demo\n",
      "gs://user-group-demo/pipeline_root\n"
     ]
    }
   ],
   "source": [
    "#https://stackoverflow.com/a/54028874\n",
    "%load_ext dotenv\n",
    "%dotenv\n",
    "import os\n",
    "PROJECT_ID = os.environ['PROJECT_ID']\n",
    "BUCKET_NAME = os.environ['BUCKET']\n",
    "\n",
    "PIPELINE_ROOT = 'gs://{}/pipeline_root'.format(BUCKET_NAME)\n",
    "REGION = 'us-central1'\n",
    "\n",
    "print(PROJECT_ID)\n",
    "print(BUCKET_NAME)\n",
    "print(PIPELINE_ROOT)"
   ]
  },
  {
   "cell_type": "code",
   "execution_count": 10,
   "id": "d79fe4f6-4531-4242-a6d6-399cb07eb28c",
   "metadata": {},
   "outputs": [],
   "source": [
    "@component(packages_to_install=[\"pandas\", \"google-cloud-aiplatform\", \"google-cloud-bigquery-storage\",\"google-cloud-bigquery\",\"pyarrow\"])\n",
    "def preprocess(output_csv_path: OutputPath('CSV')):\n",
    "    #1\n",
    "    from google.cloud import bigquery\n",
    "    import google.auth\n",
    "    \n",
    "    creds, project = google.auth.default()\n",
    "    client = bigquery.Client(project='kubeflow-demos', credentials=creds)\n",
    "\n",
    "    query =     \"\"\"\n",
    "            SELECT * FROM `kubeflow-demos.imdb.imdb_review_sentiment_strings`\n",
    "    \"\"\"\n",
    "    print(query)\n",
    "    \n",
    "    dataframe = client.query(query).to_dataframe()\n",
    "    print(dataframe.head())\n",
    "    \n",
    "    dataframe.to_csv(output_csv_path)\n",
    "    print(\"done\")\n",
    "       \n",
    "@component(packages_to_install=[\"pandas\", \"imbalanced-learn\", \"google-cloud-aiplatform\", \"pyarrow\"])\n",
    "def train(input_csv_path: InputPath('CSV'), saved_model: Output[Model], artifact_uri: OutputPath(str), experiment_name: str, run_name: str, num_epochs: int, project_id: str, bucket: str):\n",
    "    from google.cloud import aiplatform\n",
    "    from typing import NamedTuple\n",
    "    \n",
    "    aiplatform.init(\n",
    "        project=project_id,\n",
    "        location='us-central1',\n",
    "        staging_bucket=bucket,\n",
    "        experiment=experiment_name,\n",
    "    )\n",
    "\n",
    "    aiplatform.start_run(run_name)\n",
    "    parameters = {\"epochs\": num_epochs}\n",
    "    aiplatform.log_params(parameters)\n",
    "    \n",
    "    #1\n",
    "    import pandas as pd\n",
    "    from imblearn.under_sampling import  RandomUnderSampler\n",
    "    df_review = pd.read_csv(input_csv_path)\n",
    "    print(len(df_review))\n",
    "    \n",
    "    df_positive = df_review[df_review['sentiment']=='positive'][:9000]\n",
    "    df_negative = df_review[df_review['sentiment']=='negative'][:1000]\n",
    "\n",
    "    df_review_imb = pd.concat([df_positive, df_negative])\n",
    "    df_review_imb.value_counts(['sentiment'])\n",
    "    \n",
    "    print(len(df_review_imb))\n",
    "    rus = RandomUnderSampler(random_state=0)\n",
    "    df_review_bal, df_review_bal['sentiment']=rus.fit_resample(df_review_imb[['review']], df_review_imb['sentiment'])\n",
    "    \n",
    "    print(len(df_review_bal))\n",
    "    from sklearn.model_selection import train_test_split\n",
    "\n",
    "    train, test = train_test_split(df_review_bal, test_size=0.33, random_state=42)\n",
    "    train_x, train_y = train['review'], train['sentiment']\n",
    "    test_x, test_y = test['review'], test['sentiment']\n",
    "\n",
    "    print(\"train x values count\")\n",
    "    print(len(train_x))\n",
    "    print(\"train y values count\")\n",
    "    print(train_y.value_counts())\n",
    "    \n",
    "    from sklearn.feature_extraction.text import TfidfVectorizer\n",
    "\n",
    "    tfidf = TfidfVectorizer(stop_words='english')\n",
    "    train_x_vector = tfidf.fit_transform(train_x)\n",
    "    test_x_vector = tfidf.transform(test_x)\n",
    "    \n",
    "    print(train_x_vector)\n",
    "    from sklearn.svm import SVC\n",
    "\n",
    "    svc = SVC(kernel='linear')\n",
    "    svc.fit(train_x_vector, train_y)\n",
    "    \n",
    "    print(svc.score(test_x_vector, test_y))\n",
    "\n",
    "    #aiplatform.log_metrics({\"accuracy\": accu})\n",
    "    import joblib\n",
    "    \n",
    "    joblib.dump(svc, os.path.join(saved_model.path.replace(\"saved_model\",\"\"), 'model.joblib'))\n",
    "    print(\" saved_model.path: \"+ saved_model.path)\n",
    "    print(\" saved_model.uri: \"+ saved_model.uri)\n",
    "    with open(artifact_uri, 'w') as f:\n",
    "        f.write(saved_model.uri.replace(\"saved_model\",\"\"))\n",
    "    \n",
    "    print(saved_model.uri)  "
   ]
  },
  {
   "cell_type": "code",
   "execution_count": 11,
   "id": "b2b71636-845e-401c-a98c-2cb23f91f9c0",
   "metadata": {},
   "outputs": [],
   "source": [
    "from datetime import datetime\n",
    "\n",
    "TIMESTAMP = datetime.now().strftime(\"%Y%m%d%H%M%S\")"
   ]
  },
  {
   "cell_type": "code",
   "execution_count": 12,
   "id": "0c017dbb-ce6c-437c-bd56-26dd099ac850",
   "metadata": {},
   "outputs": [],
   "source": [
    "@kfp.dsl.pipeline(name=\"train-scikit\" + str(uuid.uuid4()))\n",
    "def pipeline(\n",
    "    project: str = PROJECT_ID,\n",
    "    bucket: str = BUCKET\n",
    "):\n",
    "    preprocess_task = preprocess()\n",
    "    \n",
    "    train_task = train(preprocess_task.output, \"test-\"+TIMESTAMP, \"test-run-\"+TIMESTAMP, 1, project_id=PROJECT_ID, bucket=BUCKET)\n",
    "    \n",
    "    model_upload_op = gcc_aip.ModelUploadOp(\n",
    "        project=PROJECT_ID,\n",
    "        display_name=\"model\"+TIMESTAMP, \n",
    "#        artifact_uri=\"gs://user-group-demo/pipeline_root/141610882258/train-scikitf989f632-b955-4bb1-a72d-0480d1c08627-20210620145355/train_-6780204423378370560/\", # GCS location of model\n",
    "        artifact_uri=train_task.outputs[\"artifact_uri\"], # GCS location of model\n",
    "        serving_container_image_uri=\"us-docker.pkg.dev/vertex-ai/prediction/sklearn-cpu.0-24:latest\",\n",
    "    )\n",
    "    \n",
    "    endpoint_create_op = gcc_aip.EndpointCreateOp(\n",
    "        project=PROJECT_ID,\n",
    "        display_name=\"pipelines\"+TIMESTAMP,\n",
    "    )\n",
    "\n",
    "    model_deploy_op = gcc_aip.ModelDeployOp( \n",
    "        project=PROJECT_ID,\n",
    "        endpoint=endpoint_create_op.outputs[\"endpoint\"],\n",
    "        model=model_upload_op.outputs[\"model\"],\n",
    "        deployed_model_display_name=\"model_display_name\",\n",
    "        machine_type=\"n1-standard-4\",\n",
    "    )\n"
   ]
  },
  {
   "cell_type": "code",
   "execution_count": 13,
   "id": "803b675b-e7d6-4df1-bbb9-edcf2cb69f31",
   "metadata": {},
   "outputs": [],
   "source": [
    "from kfp.v2 import compiler\n",
    "\n",
    "compiler.Compiler().compile(pipeline_func=pipeline, \n",
    "                            package_path=\"dag-\"+TIMESTAMP+\".json\")"
   ]
  },
  {
   "cell_type": "code",
   "execution_count": 14,
   "id": "437f0e8d-1837-4a90-88ab-10a64ef4b4f4",
   "metadata": {},
   "outputs": [],
   "source": [
    "from kfp.v2.google.client import AIPlatformClient\n",
    "\n",
    "api_client = AIPlatformClient(\n",
    "    project_id=PROJECT_ID,\n",
    "    region=REGION,\n",
    ")"
   ]
  },
  {
   "cell_type": "code",
   "execution_count": 15,
   "id": "57b5abe5-15eb-47a4-a1b4-830a8b9fb22b",
   "metadata": {},
   "outputs": [
    {
     "data": {
      "text/html": [
       "See the Pipeline job <a href=\"https://console.cloud.google.com/vertex-ai/locations/us-central1/pipelines/runs/train-scikit8e6e5d7a-564a-4994-b995-659cdebc66c5-20210626125935?project=kubeflow-demos\" target=\"_blank\" >here</a>."
      ],
      "text/plain": [
       "<IPython.core.display.HTML object>"
      ]
     },
     "metadata": {},
     "output_type": "display_data"
    }
   ],
   "source": [
    "response = api_client.create_run_from_job_spec(\n",
    "    \"dag-\"+TIMESTAMP+\".json\",\n",
    "    pipeline_root=PIPELINE_ROOT,\n",
    "    parameter_values={},\n",
    ")"
   ]
  }
 ],
 "metadata": {
  "kernelspec": {
   "display_name": "Python 3",
   "language": "python",
   "name": "python3"
  },
  "language_info": {
   "codemirror_mode": {
    "name": "ipython",
    "version": 3
   },
   "file_extension": ".py",
   "mimetype": "text/x-python",
   "name": "python",
   "nbconvert_exporter": "python",
   "pygments_lexer": "ipython3",
   "version": "3.9.4"
  }
 },
 "nbformat": 4,
 "nbformat_minor": 5
}
